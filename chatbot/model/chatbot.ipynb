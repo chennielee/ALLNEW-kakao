{
 "cells": [
  {
   "cell_type": "code",
   "execution_count": 14,
   "metadata": {
    "colab": {
     "base_uri": "https://localhost:8080/"
    },
    "executionInfo": {
     "elapsed": 2528,
     "status": "ok",
     "timestamp": 1731830382253,
     "user": {
      "displayName": "이채은",
      "userId": "06972204795041090172"
     },
     "user_tz": -540
    },
    "id": "yHqOW0Gh5VZq",
    "outputId": "473cb5e1-789c-402f-ac28-b45430c68998"
   },
   "outputs": [
    {
     "name": "stdout",
     "output_type": "stream",
     "text": [
      "Drive already mounted at /content/drive; to attempt to forcibly remount, call drive.mount(\"/content/drive\", force_remount=True).\n"
     ]
    }
   ],
   "source": [
    "from google.colab import drive\n",
    "drive.mount('/content/drive')"
   ]
  },
  {
   "cell_type": "markdown",
   "metadata": {
    "id": "O1FNwiygq_Cs"
   },
   "source": [
    "###초기설정"
   ]
  },
  {
   "cell_type": "code",
   "execution_count": 15,
   "metadata": {
    "colab": {
     "base_uri": "https://localhost:8080/"
    },
    "executionInfo": {
     "elapsed": 5162,
     "status": "ok",
     "timestamp": 1731830388910,
     "user": {
      "displayName": "이채은",
      "userId": "06972204795041090172"
     },
     "user_tz": -540
    },
    "id": "SmEFX_C7qNyQ",
    "outputId": "f194c95f-025b-4450-af60-6869cad4a20c"
   },
   "outputs": [
    {
     "name": "stdout",
     "output_type": "stream",
     "text": [
      "Requirement already satisfied: fastapi in /usr/local/lib/python3.10/dist-packages (0.115.5)\n",
      "Requirement already satisfied: uvicorn in /usr/local/lib/python3.10/dist-packages (0.32.0)\n",
      "Requirement already satisfied: sentence-transformers in /usr/local/lib/python3.10/dist-packages (3.2.1)\n",
      "Requirement already satisfied: pdfplumber in /usr/local/lib/python3.10/dist-packages (0.11.4)\n",
      "Requirement already satisfied: openai in /usr/local/lib/python3.10/dist-packages (1.54.4)\n",
      "Requirement already satisfied: faiss-gpu in /usr/local/lib/python3.10/dist-packages (1.7.2)\n",
      "Requirement already satisfied: starlette<0.42.0,>=0.40.0 in /usr/local/lib/python3.10/dist-packages (from fastapi) (0.41.2)\n",
      "Requirement already satisfied: pydantic!=1.8,!=1.8.1,!=2.0.0,!=2.0.1,!=2.1.0,<3.0.0,>=1.7.4 in /usr/local/lib/python3.10/dist-packages (from fastapi) (2.9.2)\n",
      "Requirement already satisfied: typing-extensions>=4.8.0 in /usr/local/lib/python3.10/dist-packages (from fastapi) (4.12.2)\n",
      "Requirement already satisfied: click>=7.0 in /usr/local/lib/python3.10/dist-packages (from uvicorn) (8.1.7)\n",
      "Requirement already satisfied: h11>=0.8 in /usr/local/lib/python3.10/dist-packages (from uvicorn) (0.14.0)\n",
      "Requirement already satisfied: transformers<5.0.0,>=4.41.0 in /usr/local/lib/python3.10/dist-packages (from sentence-transformers) (4.46.2)\n",
      "Requirement already satisfied: tqdm in /usr/local/lib/python3.10/dist-packages (from sentence-transformers) (4.66.6)\n",
      "Requirement already satisfied: torch>=1.11.0 in /usr/local/lib/python3.10/dist-packages (from sentence-transformers) (2.5.1+cu121)\n",
      "Requirement already satisfied: scikit-learn in /usr/local/lib/python3.10/dist-packages (from sentence-transformers) (1.5.2)\n",
      "Requirement already satisfied: scipy in /usr/local/lib/python3.10/dist-packages (from sentence-transformers) (1.13.1)\n",
      "Requirement already satisfied: huggingface-hub>=0.20.0 in /usr/local/lib/python3.10/dist-packages (from sentence-transformers) (0.26.2)\n",
      "Requirement already satisfied: Pillow in /usr/local/lib/python3.10/dist-packages (from sentence-transformers) (11.0.0)\n",
      "Requirement already satisfied: pdfminer.six==20231228 in /usr/local/lib/python3.10/dist-packages (from pdfplumber) (20231228)\n",
      "Requirement already satisfied: pypdfium2>=4.18.0 in /usr/local/lib/python3.10/dist-packages (from pdfplumber) (4.30.0)\n",
      "Requirement already satisfied: charset-normalizer>=2.0.0 in /usr/local/lib/python3.10/dist-packages (from pdfminer.six==20231228->pdfplumber) (3.4.0)\n",
      "Requirement already satisfied: cryptography>=36.0.0 in /usr/local/lib/python3.10/dist-packages (from pdfminer.six==20231228->pdfplumber) (43.0.3)\n",
      "Requirement already satisfied: anyio<5,>=3.5.0 in /usr/local/lib/python3.10/dist-packages (from openai) (3.7.1)\n",
      "Requirement already satisfied: distro<2,>=1.7.0 in /usr/local/lib/python3.10/dist-packages (from openai) (1.9.0)\n",
      "Requirement already satisfied: httpx<1,>=0.23.0 in /usr/local/lib/python3.10/dist-packages (from openai) (0.27.2)\n",
      "Requirement already satisfied: jiter<1,>=0.4.0 in /usr/local/lib/python3.10/dist-packages (from openai) (0.7.1)\n",
      "Requirement already satisfied: sniffio in /usr/local/lib/python3.10/dist-packages (from openai) (1.3.1)\n",
      "Requirement already satisfied: idna>=2.8 in /usr/local/lib/python3.10/dist-packages (from anyio<5,>=3.5.0->openai) (3.10)\n",
      "Requirement already satisfied: exceptiongroup in /usr/local/lib/python3.10/dist-packages (from anyio<5,>=3.5.0->openai) (1.2.2)\n",
      "Requirement already satisfied: certifi in /usr/local/lib/python3.10/dist-packages (from httpx<1,>=0.23.0->openai) (2024.8.30)\n",
      "Requirement already satisfied: httpcore==1.* in /usr/local/lib/python3.10/dist-packages (from httpx<1,>=0.23.0->openai) (1.0.6)\n",
      "Requirement already satisfied: filelock in /usr/local/lib/python3.10/dist-packages (from huggingface-hub>=0.20.0->sentence-transformers) (3.16.1)\n",
      "Requirement already satisfied: fsspec>=2023.5.0 in /usr/local/lib/python3.10/dist-packages (from huggingface-hub>=0.20.0->sentence-transformers) (2024.10.0)\n",
      "Requirement already satisfied: packaging>=20.9 in /usr/local/lib/python3.10/dist-packages (from huggingface-hub>=0.20.0->sentence-transformers) (24.2)\n",
      "Requirement already satisfied: pyyaml>=5.1 in /usr/local/lib/python3.10/dist-packages (from huggingface-hub>=0.20.0->sentence-transformers) (6.0.2)\n",
      "Requirement already satisfied: requests in /usr/local/lib/python3.10/dist-packages (from huggingface-hub>=0.20.0->sentence-transformers) (2.32.3)\n",
      "Requirement already satisfied: annotated-types>=0.6.0 in /usr/local/lib/python3.10/dist-packages (from pydantic!=1.8,!=1.8.1,!=2.0.0,!=2.0.1,!=2.1.0,<3.0.0,>=1.7.4->fastapi) (0.7.0)\n",
      "Requirement already satisfied: pydantic-core==2.23.4 in /usr/local/lib/python3.10/dist-packages (from pydantic!=1.8,!=1.8.1,!=2.0.0,!=2.0.1,!=2.1.0,<3.0.0,>=1.7.4->fastapi) (2.23.4)\n",
      "Requirement already satisfied: networkx in /usr/local/lib/python3.10/dist-packages (from torch>=1.11.0->sentence-transformers) (3.4.2)\n",
      "Requirement already satisfied: jinja2 in /usr/local/lib/python3.10/dist-packages (from torch>=1.11.0->sentence-transformers) (3.1.4)\n",
      "Requirement already satisfied: sympy==1.13.1 in /usr/local/lib/python3.10/dist-packages (from torch>=1.11.0->sentence-transformers) (1.13.1)\n",
      "Requirement already satisfied: mpmath<1.4,>=1.1.0 in /usr/local/lib/python3.10/dist-packages (from sympy==1.13.1->torch>=1.11.0->sentence-transformers) (1.3.0)\n",
      "Requirement already satisfied: numpy>=1.17 in /usr/local/lib/python3.10/dist-packages (from transformers<5.0.0,>=4.41.0->sentence-transformers) (1.26.4)\n",
      "Requirement already satisfied: regex!=2019.12.17 in /usr/local/lib/python3.10/dist-packages (from transformers<5.0.0,>=4.41.0->sentence-transformers) (2024.9.11)\n",
      "Requirement already satisfied: safetensors>=0.4.1 in /usr/local/lib/python3.10/dist-packages (from transformers<5.0.0,>=4.41.0->sentence-transformers) (0.4.5)\n",
      "Requirement already satisfied: tokenizers<0.21,>=0.20 in /usr/local/lib/python3.10/dist-packages (from transformers<5.0.0,>=4.41.0->sentence-transformers) (0.20.3)\n",
      "Requirement already satisfied: joblib>=1.2.0 in /usr/local/lib/python3.10/dist-packages (from scikit-learn->sentence-transformers) (1.4.2)\n",
      "Requirement already satisfied: threadpoolctl>=3.1.0 in /usr/local/lib/python3.10/dist-packages (from scikit-learn->sentence-transformers) (3.5.0)\n",
      "Requirement already satisfied: cffi>=1.12 in /usr/local/lib/python3.10/dist-packages (from cryptography>=36.0.0->pdfminer.six==20231228->pdfplumber) (1.17.1)\n",
      "Requirement already satisfied: MarkupSafe>=2.0 in /usr/local/lib/python3.10/dist-packages (from jinja2->torch>=1.11.0->sentence-transformers) (3.0.2)\n",
      "Requirement already satisfied: urllib3<3,>=1.21.1 in /usr/local/lib/python3.10/dist-packages (from requests->huggingface-hub>=0.20.0->sentence-transformers) (2.2.3)\n",
      "Requirement already satisfied: pycparser in /usr/local/lib/python3.10/dist-packages (from cffi>=1.12->cryptography>=36.0.0->pdfminer.six==20231228->pdfplumber) (2.22)\n"
     ]
    }
   ],
   "source": [
    "!pip install fastapi uvicorn sentence-transformers pdfplumber openai faiss-gpu"
   ]
  },
  {
   "cell_type": "code",
   "execution_count": 42,
   "metadata": {
    "colab": {
     "base_uri": "https://localhost:8080/"
    },
    "executionInfo": {
     "elapsed": 3547,
     "status": "ok",
     "timestamp": 1731831378273,
     "user": {
      "displayName": "이채은",
      "userId": "06972204795041090172"
     },
     "user_tz": -540
    },
    "id": "f3TbjHhhMZsM",
    "outputId": "d008a7ad-b9a9-41e7-a545-2c45667ae82a"
   },
   "outputs": [
    {
     "name": "stdout",
     "output_type": "stream",
     "text": [
      "Requirement already satisfied: nest_asyncio in /usr/local/lib/python3.10/dist-packages (1.6.0)\n",
      "Requirement already satisfied: uvicorn in /usr/local/lib/python3.10/dist-packages (0.32.0)\n",
      "Requirement already satisfied: click>=7.0 in /usr/local/lib/python3.10/dist-packages (from uvicorn) (8.1.7)\n",
      "Requirement already satisfied: h11>=0.8 in /usr/local/lib/python3.10/dist-packages (from uvicorn) (0.14.0)\n",
      "Requirement already satisfied: typing-extensions>=4.0 in /usr/local/lib/python3.10/dist-packages (from uvicorn) (4.12.2)\n"
     ]
    }
   ],
   "source": [
    "!pip install nest_asyncio uvicorn"
   ]
  },
  {
   "cell_type": "code",
   "execution_count": 35,
   "metadata": {
    "colab": {
     "base_uri": "https://localhost:8080/"
    },
    "executionInfo": {
     "elapsed": 8546,
     "status": "ok",
     "timestamp": 1731831061674,
     "user": {
      "displayName": "이채은",
      "userId": "06972204795041090172"
     },
     "user_tz": -540
    },
    "id": "GOQilt_xLLRr",
    "outputId": "5abf5dc9-f0e0-4357-db86-5eb52f5abf99"
   },
   "outputs": [
    {
     "name": "stdout",
     "output_type": "stream",
     "text": [
      "Collecting python-multipart\n",
      "  Downloading python_multipart-0.0.17-py3-none-any.whl.metadata (1.8 kB)\n",
      "Downloading python_multipart-0.0.17-py3-none-any.whl (24 kB)\n",
      "Installing collected packages: python-multipart\n",
      "Successfully installed python-multipart-0.0.17\n"
     ]
    }
   ],
   "source": [
    "pip install python-multipart"
   ]
  },
  {
   "cell_type": "code",
   "execution_count": 169,
   "metadata": {
    "executionInfo": {
     "elapsed": 319,
     "status": "ok",
     "timestamp": 1731844596775,
     "user": {
      "displayName": "이채은",
      "userId": "06972204795041090172"
     },
     "user_tz": -540
    },
    "id": "xxgdBQCZ4IL7"
   },
   "outputs": [],
   "source": [
    "import os\n",
    "import pdfplumber\n",
    "import faiss\n",
    "import numpy as np\n",
    "from fastapi import FastAPI, UploadFile, File, Form, HTTPException\n",
    "from pydantic import BaseModel\n",
    "from typing import List\n",
    "from sentence_transformers import SentenceTransformer\n",
    "from openai import OpenAI\n",
    "from fastapi.middleware.cors import CORSMiddleware\n",
    "from pyngrok import ngrok\n",
    "import nest_asyncio\n",
    "import uvicorn\n",
    "import base64\n",
    "import json"
   ]
  },
  {
   "cell_type": "code",
   "execution_count": 180,
   "metadata": {
    "executionInfo": {
     "elapsed": 314,
     "status": "ok",
     "timestamp": 1731845039321,
     "user": {
      "displayName": "이채은",
      "userId": "06972204795041090172"
     },
     "user_tz": -540
    },
    "id": "d6I_6dd9MDTB"
   },
   "outputs": [],
   "source": [
    "ngrok.set_auth_token(\"\")"
   ]
  },
  {
   "cell_type": "code",
   "execution_count": 181,
   "metadata": {
    "executionInfo": {
     "elapsed": 2023,
     "status": "ok",
     "timestamp": 1731845042459,
     "user": {
      "displayName": "이채은",
      "userId": "06972204795041090172"
     },
     "user_tz": -540
    },
    "id": "RMqH72fCAhiw"
   },
   "outputs": [],
   "source": [
    "app = FastAPI()\n",
    "sbert_model = SentenceTransformer('all-MPNet-Base-V2')\n",
    "os.environ[\"OPENAI_API_KEY\"] = \"\"\n",
    "client = OpenAI()\n"
   ]
  },
  {
   "cell_type": "code",
   "execution_count": 182,
   "metadata": {
    "executionInfo": {
     "elapsed": 303,
     "status": "ok",
     "timestamp": 1731845044328,
     "user": {
      "displayName": "이채은",
      "userId": "06972204795041090172"
     },
     "user_tz": -540
    },
    "id": "ASoKaKAjXPo-"
   },
   "outputs": [],
   "source": [
    "# CORS 설정\n",
    "app.add_middleware(\n",
    "    CORSMiddleware,\n",
    "    allow_origins=\"http://127.0.0.1:5500\",  # 허용할 출처 설정\n",
    "    allow_credentials=True,\n",
    "    allow_methods=[\"*\"],\n",
    "    allow_headers=[\"*\"],\n",
    ")"
   ]
  },
  {
   "cell_type": "code",
   "execution_count": 183,
   "metadata": {
    "executionInfo": {
     "elapsed": 369,
     "status": "ok",
     "timestamp": 1731845046418,
     "user": {
      "displayName": "이채은",
      "userId": "06972204795041090172"
     },
     "user_tz": -540
    },
    "id": "59crsDMD4OEt"
   },
   "outputs": [],
   "source": [
    "# 4. 벡터 DB(FAISS) 초기화 (GPU 기반)\n",
    "dimension = 768\n",
    "res = faiss.StandardGpuResources()  # GPU 리소스 생성\n",
    "index = faiss.GpuIndexFlatL2(res, dimension)  # L2 거리 기반 GPU 인덱스\n",
    "\n",
    "text_chunks = []\n",
    "chunk_metadata = []\n",
    "\n",
    "pdf_folder_path = '/content/drive/MyDrive/Colab Notebooks/dataset'\n",
    "pdf_files = [f for f in os.listdir(pdf_folder_path) if f.endswith('.pdf')]"
   ]
  },
  {
   "cell_type": "code",
   "execution_count": 184,
   "metadata": {
    "executionInfo": {
     "elapsed": 343,
     "status": "ok",
     "timestamp": 1731845048283,
     "user": {
      "displayName": "이채은",
      "userId": "06972204795041090172"
     },
     "user_tz": -540
    },
    "id": "WrQUXT7B4NeP"
   },
   "outputs": [],
   "source": [
    "def extract_text_from_pdf(pdf_path):\n",
    "    with pdfplumber.open(pdf_path) as pdf:\n",
    "        text = ''\n",
    "        for page in pdf.pages:\n",
    "            text += page.extract_text()\n",
    "    return text\n",
    "\n",
    "def split_text_into_chunks(text, max_tokens=256):\n",
    "    words = text.split()\n",
    "    chunks = []\n",
    "    for i in range(0, len(words), max_tokens):\n",
    "        chunk = ' '.join(words[i:i + max_tokens])\n",
    "        chunks.append(chunk)\n",
    "    return chunks\n",
    "\n",
    "def get_embeddings(texts):\n",
    "    try:\n",
    "        # texts가 비어있는 경우 처리\n",
    "        if not texts:\n",
    "            return np.array([], dtype=np.float32)\n",
    "\n",
    "        # embeddings 생성\n",
    "        embeddings = sbert_model.encode(texts)\n",
    "\n",
    "        # numpy array로 변환하고 float32로 타입 변환\n",
    "        embeddings_array = np.array(embeddings, dtype=np.float32)\n",
    "\n",
    "        print(f\"임베딩 생성 완료. shape: {embeddings_array.shape}, dtype: {embeddings_array.dtype}\")\n",
    "        return embeddings_array\n",
    "    except Exception as e:\n",
    "        print(f\"임베딩 생성 중 오류 발생: {str(e)}\")\n",
    "        raise"
   ]
  },
  {
   "cell_type": "code",
   "execution_count": 185,
   "metadata": {
    "colab": {
     "base_uri": "https://localhost:8080/"
    },
    "executionInfo": {
     "elapsed": 2776,
     "status": "ok",
     "timestamp": 1731845054838,
     "user": {
      "displayName": "이채은",
      "userId": "06972204795041090172"
     },
     "user_tz": -540
    },
    "id": "BAS1IwKSJmj9",
    "outputId": "1dc2e22d-f028-467e-e098-29740bfc1c97"
   },
   "outputs": [
    {
     "name": "stdout",
     "output_type": "stream",
     "text": [
      "Processing data1.pdf...\n",
      "임베딩 생성 완료. shape: (5, 768), dtype: float32\n",
      "FAISS에 추가할 임베딩 데이터 크기: (5, 768)\n",
      "Processing data2.pdf...\n",
      "임베딩 생성 완료. shape: (5, 768), dtype: float32\n",
      "FAISS에 추가할 임베딩 데이터 크기: (5, 768)\n",
      "총 처리된 청크 개수: 10\n",
      "FAISS 인덱스에 저장된 벡터 개수: 10\n"
     ]
    }
   ],
   "source": [
    "\n",
    "for pdf_file in pdf_files:\n",
    "    pdf_path = os.path.join(pdf_folder_path, pdf_file)\n",
    "    print(f\"Processing {pdf_file}...\")\n",
    "\n",
    "    pdf_text = extract_text_from_pdf(pdf_path)\n",
    "    chunks = split_text_into_chunks(pdf_text)\n",
    "\n",
    "    if len(chunks) == 0:\n",
    "        print(f\"PDF 파일 {pdf_file}에서 텍스트를 추출하지 못했습니다. 건너뜁니다.\")\n",
    "        continue\n",
    "\n",
    "    embeddings = get_embeddings(chunks)\n",
    "    embeddings = np.array(embeddings)  # FAISS 호환을 위해 Numpy 배열로 변환\n",
    "\n",
    "    # FAISS 인덱스 추가 전 데이터 차원 확인\n",
    "    print(f\"FAISS에 추가할 임베딩 데이터 크기: {embeddings.shape}\")\n",
    "    assert embeddings.shape[1] == dimension, f\"임베딩 차원 {embeddings.shape[1]}이 FAISS 설정 차원 {dimension}과 일치하지 않습니다.\"\n",
    "\n",
    "    index.add(embeddings)  # 벡터 DB에 추가\n",
    "\n",
    "    text_chunks.extend(chunks)\n",
    "    chunk_metadata.extend([{\"file\": pdf_file, \"chunk_index\": i} for i in range(len(chunks))])\n",
    "\n",
    "print(f\"총 처리된 청크 개수: {len(text_chunks)}\")\n",
    "print(f\"FAISS 인덱스에 저장된 벡터 개수: {index.ntotal}\")"
   ]
  },
  {
   "cell_type": "code",
   "execution_count": 113,
   "metadata": {
    "colab": {
     "base_uri": "https://localhost:8080/"
    },
    "executionInfo": {
     "elapsed": 7739,
     "status": "ok",
     "timestamp": 1731840059527,
     "user": {
      "displayName": "이채은",
      "userId": "06972204795041090172"
     },
     "user_tz": -540
    },
    "id": "oIqzixjtqIW_",
    "outputId": "a984ab44-bec1-49f3-b8e7-01e02078f817"
   },
   "outputs": [
    {
     "name": "stdout",
     "output_type": "stream",
     "text": [
      "Requirement already satisfied: python-multipart in /usr/local/lib/python3.10/dist-packages (0.0.17)\n"
     ]
    }
   ],
   "source": [
    "!pip install python-multipart"
   ]
  },
  {
   "cell_type": "code",
   "execution_count": 186,
   "metadata": {
    "executionInfo": {
     "elapsed": 297,
     "status": "ok",
     "timestamp": 1731845058536,
     "user": {
      "displayName": "이채은",
      "userId": "06972204795041090172"
     },
     "user_tz": -540
    },
    "id": "uzRSLvXf95MT"
   },
   "outputs": [],
   "source": [
    "class PDFUploadRequest(BaseModel):\n",
    "    filename: str\n",
    "    base64_data: str\n",
    "\n",
    "@app.post(\"/upload\")\n",
    "async def upload_pdf(request: PDFUploadRequest):\n",
    "    try:\n",
    "        # base64 데이터를 바이너리로 디코딩\n",
    "        file_data = base64.b64decode(request.base64_data.split(',')[1] if ',' in request.base64_data else request.base64_data)\n",
    "\n",
    "        # 파일 저장\n",
    "        file_path = f\"./uploads/{request.filename}\"\n",
    "        os.makedirs(\"./uploads\", exist_ok=True)\n",
    "\n",
    "        with open(file_path, \"wb\") as f:\n",
    "            f.write(file_data)\n",
    "\n",
    "        try:\n",
    "            # PDF 텍스트 추출 및 처리\n",
    "            pdf_text = extract_text_from_pdf(file_path)\n",
    "            if not pdf_text.strip():  # 빈 텍스트 체크\n",
    "                raise HTTPException(status_code=400, detail=\"No text could be extracted from the PDF\")\n",
    "\n",
    "            chunks = split_text_into_chunks(pdf_text)\n",
    "            if not chunks:  # 빈 청크 체크\n",
    "                raise HTTPException(status_code=400, detail=\"No text chunks were generated\")\n",
    "\n",
    "            embeddings = get_embeddings(chunks)\n",
    "\n",
    "            # embeddings가 비어있지 않은 경우에만 처리\n",
    "            if embeddings.size > 0:\n",
    "                # FAISS index에 추가\n",
    "                try:\n",
    "                    index.add(embeddings)\n",
    "                    print(f\"FAISS index에 {len(embeddings)} 개의 벡터 추가됨\")\n",
    "                except Exception as e:\n",
    "                    print(f\"FAISS index 추가 중 오류: {str(e)}\")\n",
    "                    raise HTTPException(status_code=500, detail=f\"Error adding to FAISS index: {str(e)}\")\n",
    "\n",
    "                # 메타데이터 추가\n",
    "                text_chunks.extend(chunks)\n",
    "                chunk_metadata.extend([{\n",
    "                    \"file\": request.filename,\n",
    "                    \"chunk_index\": i\n",
    "                } for i in range(len(chunks))])\n",
    "\n",
    "            return {\"message\": \"200\", \"filename\": request.filename}\n",
    "\n",
    "        finally:\n",
    "            # 임시 파일 삭제\n",
    "            if os.path.exists(file_path):\n",
    "                os.remove(file_path)\n",
    "\n",
    "    except Exception as e:\n",
    "        print(f\"Error: {str(e)}\")\n",
    "        raise HTTPException(status_code=400, detail=str(e))"
   ]
  },
  {
   "cell_type": "code",
   "execution_count": 187,
   "metadata": {
    "executionInfo": {
     "elapsed": 295,
     "status": "ok",
     "timestamp": 1731845064253,
     "user": {
      "displayName": "이채은",
      "userId": "06972204795041090172"
     },
     "user_tz": -540
    },
    "id": "wzOTc7N84WsN"
   },
   "outputs": [],
   "source": [
    "class AskRequest(BaseModel):\n",
    "    query: str\n",
    "    top_k: int = 5  # 기본값 설정\n",
    "\n",
    "@app.post(\"/ask/\")\n",
    "async def ask_question(request: AskRequest):\n",
    "    query = request.query\n",
    "    top_k = request.top_k\n",
    "\n",
    "    # 1. 사용자 질문을 SBERT 임베딩으로 변환\n",
    "    query_embedding = get_embeddings([query])[0]\n",
    "\n",
    "    # 2. 벡터 DB에서 관련 텍스트 검색\n",
    "    distances, indices = index.search(np.array([query_embedding]), k=top_k)\n",
    "    results = [{\"text\": text_chunks[i], \"metadata\": chunk_metadata[i], \"distance\": distances[0][j]}\n",
    "               for j, i in enumerate(indices[0])]\n",
    "\n",
    "    # 3. 검색된 텍스트를 문맥으로 연결\n",
    "    context = \"\\n\".join([result[\"text\"] for result in results])\n",
    "\n",
    "    # 4. OpenAI GPT를 사용해 응답 생성\n",
    "    prompt = f\"문맥: {context}\\n\\n질문: {query}\\n\\n답변:\"\n",
    "    completion = client.chat.completions.create(\n",
    "        model=\"gpt-4o-mini\",\n",
    "        messages=[\n",
    "            {\n",
    "                \"role\": \"system\",\n",
    "                \"content\": \"당신은 문맥 기반 정보를 활용해 사용자 질문에 정확하고 친절하게 답변하는 한국어 전문가입니다.\"\n",
    "            },\n",
    "            {\n",
    "                \"role\": \"user\",\n",
    "                \"content\": prompt\n",
    "            }\n",
    "        ]\n",
    "    )\n",
    "    answer = completion.choices[0].message\n",
    "\n",
    "    # 5. 응답 반환\n",
    "    return {\"answer\": answer}"
   ]
  },
  {
   "cell_type": "code",
   "execution_count": 188,
   "metadata": {
    "executionInfo": {
     "elapsed": 427,
     "status": "ok",
     "timestamp": 1731845067250,
     "user": {
      "displayName": "이채은",
      "userId": "06972204795041090172"
     },
     "user_tz": -540
    },
    "id": "n40moCksMzjA"
   },
   "outputs": [],
   "source": [
    "nest_asyncio.apply()"
   ]
  },
  {
   "cell_type": "code",
   "execution_count": null,
   "metadata": {
    "colab": {
     "base_uri": "https://localhost:8080/"
    },
    "id": "1pZFLYhPuP7g",
    "outputId": "066930b7-389a-4e66-89b6-b6079bd5c6ac"
   },
   "outputs": [
    {
     "name": "stdout",
     "output_type": "stream",
     "text": [
      "Public URL: NgrokTunnel: \"https://1c2c-34-16-217-63.ngrok-free.app\" -> \"http://localhost:8000\"\n"
     ]
    },
    {
     "name": "stderr",
     "output_type": "stream",
     "text": [
      "INFO:     Started server process [208]\n",
      "INFO:     Waiting for application startup.\n",
      "INFO:     Application startup complete.\n",
      "INFO:     Uvicorn running on http://0.0.0.0:8000 (Press CTRL+C to quit)\n"
     ]
    },
    {
     "name": "stdout",
     "output_type": "stream",
     "text": [
      "INFO:     210.95.155.217:0 - \"OPTIONS /upload HTTP/1.1\" 200 OK\n",
      "임베딩 생성 완료. shape: (5, 768), dtype: float32\n",
      "FAISS index에 5 개의 벡터 추가됨\n",
      "INFO:     210.95.155.217:0 - \"POST /upload HTTP/1.1\" 200 OK\n",
      "INFO:     210.95.155.217:0 - \"OPTIONS /ask/ HTTP/1.1\" 200 OK\n",
      "임베딩 생성 완료. shape: (1, 768), dtype: float32\n",
      "INFO:     210.95.155.217:0 - \"POST /ask/ HTTP/1.1\" 200 OK\n"
     ]
    }
   ],
   "source": [
    "public_url = ngrok.connect(8000)\n",
    "print(f\"Public URL: {public_url}\")\n",
    "\n",
    "# FastAPI 서버 실행\n",
    "uvicorn.run(app, host=\"0.0.0.0\", port=8000)"
   ]
  }
 ],
 "metadata": {
  "accelerator": "GPU",
  "colab": {
   "authorship_tag": "ABX9TyOpFnCL0z2xLRpsyspCZJZz",
   "gpuType": "T4",
   "provenance": []
  },
  "kernelspec": {
   "display_name": "Python 3",
   "name": "python3"
  },
  "language_info": {
   "name": "python"
  }
 },
 "nbformat": 4,
 "nbformat_minor": 0
}
