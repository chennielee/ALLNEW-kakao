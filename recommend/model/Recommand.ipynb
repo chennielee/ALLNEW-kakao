{
 "cells": [
  {
   "cell_type": "code",
   "execution_count": null,
   "metadata": {
    "id": "ervAjaA4eson"
   },
   "outputs": [],
   "source": [
    "#pdf_folder_path = '/content/drive/MyDrive/Colab Notebooks/dataset'"
   ]
  },
  {
   "cell_type": "code",
   "execution_count": 56,
   "metadata": {
    "colab": {
     "base_uri": "https://localhost:8080/"
    },
    "executionInfo": {
     "elapsed": 19119,
     "status": "ok",
     "timestamp": 1733550789573,
     "user": {
      "displayName": "이채은",
      "userId": "06972204795041090172"
     },
     "user_tz": -540
    },
    "id": "cxt9Ij74evTl",
    "outputId": "19791a03-c036-49ed-9842-d81f1af61a0a"
   },
   "outputs": [
    {
     "name": "stdout",
     "output_type": "stream",
     "text": [
      "Requirement already satisfied: elasticsearch in /usr/local/lib/python3.10/dist-packages (8.16.0)\n",
      "Requirement already satisfied: elastic-transport<9,>=8.15.1 in /usr/local/lib/python3.10/dist-packages (from elasticsearch) (8.15.1)\n",
      "Requirement already satisfied: urllib3<3,>=1.26.2 in /usr/local/lib/python3.10/dist-packages (from elastic-transport<9,>=8.15.1->elasticsearch) (2.2.3)\n",
      "Requirement already satisfied: certifi in /usr/local/lib/python3.10/dist-packages (from elastic-transport<9,>=8.15.1->elasticsearch) (2024.8.30)\n",
      "Requirement already satisfied: transformers in /usr/local/lib/python3.10/dist-packages (4.46.3)\n",
      "Requirement already satisfied: torch in /usr/local/lib/python3.10/dist-packages (2.5.1+cu121)\n",
      "Requirement already satisfied: filelock in /usr/local/lib/python3.10/dist-packages (from transformers) (3.16.1)\n",
      "Requirement already satisfied: huggingface-hub<1.0,>=0.23.2 in /usr/local/lib/python3.10/dist-packages (from transformers) (0.26.3)\n",
      "Requirement already satisfied: numpy>=1.17 in /usr/local/lib/python3.10/dist-packages (from transformers) (1.26.4)\n",
      "Requirement already satisfied: packaging>=20.0 in /usr/local/lib/python3.10/dist-packages (from transformers) (24.2)\n",
      "Requirement already satisfied: pyyaml>=5.1 in /usr/local/lib/python3.10/dist-packages (from transformers) (6.0.2)\n",
      "Requirement already satisfied: regex!=2019.12.17 in /usr/local/lib/python3.10/dist-packages (from transformers) (2024.9.11)\n",
      "Requirement already satisfied: requests in /usr/local/lib/python3.10/dist-packages (from transformers) (2.32.3)\n",
      "Requirement already satisfied: tokenizers<0.21,>=0.20 in /usr/local/lib/python3.10/dist-packages (from transformers) (0.20.3)\n",
      "Requirement already satisfied: safetensors>=0.4.1 in /usr/local/lib/python3.10/dist-packages (from transformers) (0.4.5)\n",
      "Requirement already satisfied: tqdm>=4.27 in /usr/local/lib/python3.10/dist-packages (from transformers) (4.66.6)\n",
      "Requirement already satisfied: typing-extensions>=4.8.0 in /usr/local/lib/python3.10/dist-packages (from torch) (4.12.2)\n",
      "Requirement already satisfied: networkx in /usr/local/lib/python3.10/dist-packages (from torch) (3.4.2)\n",
      "Requirement already satisfied: jinja2 in /usr/local/lib/python3.10/dist-packages (from torch) (3.1.4)\n",
      "Requirement already satisfied: fsspec in /usr/local/lib/python3.10/dist-packages (from torch) (2024.10.0)\n",
      "Requirement already satisfied: sympy==1.13.1 in /usr/local/lib/python3.10/dist-packages (from torch) (1.13.1)\n",
      "Requirement already satisfied: mpmath<1.4,>=1.1.0 in /usr/local/lib/python3.10/dist-packages (from sympy==1.13.1->torch) (1.3.0)\n",
      "Requirement already satisfied: MarkupSafe>=2.0 in /usr/local/lib/python3.10/dist-packages (from jinja2->torch) (3.0.2)\n",
      "Requirement already satisfied: charset-normalizer<4,>=2 in /usr/local/lib/python3.10/dist-packages (from requests->transformers) (3.4.0)\n",
      "Requirement already satisfied: idna<4,>=2.5 in /usr/local/lib/python3.10/dist-packages (from requests->transformers) (3.10)\n",
      "Requirement already satisfied: urllib3<3,>=1.21.1 in /usr/local/lib/python3.10/dist-packages (from requests->transformers) (2.2.3)\n",
      "Requirement already satisfied: certifi>=2017.4.17 in /usr/local/lib/python3.10/dist-packages (from requests->transformers) (2024.8.30)\n",
      "Requirement already satisfied: fastapi in /usr/local/lib/python3.10/dist-packages (0.115.6)\n",
      "Requirement already satisfied: uvicorn in /usr/local/lib/python3.10/dist-packages (0.32.1)\n",
      "Requirement already satisfied: elasticsearch in /usr/local/lib/python3.10/dist-packages (8.16.0)\n",
      "Requirement already satisfied: starlette<0.42.0,>=0.40.0 in /usr/local/lib/python3.10/dist-packages (from fastapi) (0.41.3)\n",
      "Requirement already satisfied: pydantic!=1.8,!=1.8.1,!=2.0.0,!=2.0.1,!=2.1.0,<3.0.0,>=1.7.4 in /usr/local/lib/python3.10/dist-packages (from fastapi) (2.10.3)\n",
      "Requirement already satisfied: typing-extensions>=4.8.0 in /usr/local/lib/python3.10/dist-packages (from fastapi) (4.12.2)\n",
      "Requirement already satisfied: click>=7.0 in /usr/local/lib/python3.10/dist-packages (from uvicorn) (8.1.7)\n",
      "Requirement already satisfied: h11>=0.8 in /usr/local/lib/python3.10/dist-packages (from uvicorn) (0.14.0)\n",
      "Requirement already satisfied: elastic-transport<9,>=8.15.1 in /usr/local/lib/python3.10/dist-packages (from elasticsearch) (8.15.1)\n",
      "Requirement already satisfied: urllib3<3,>=1.26.2 in /usr/local/lib/python3.10/dist-packages (from elastic-transport<9,>=8.15.1->elasticsearch) (2.2.3)\n",
      "Requirement already satisfied: certifi in /usr/local/lib/python3.10/dist-packages (from elastic-transport<9,>=8.15.1->elasticsearch) (2024.8.30)\n",
      "Requirement already satisfied: annotated-types>=0.6.0 in /usr/local/lib/python3.10/dist-packages (from pydantic!=1.8,!=1.8.1,!=2.0.0,!=2.0.1,!=2.1.0,<3.0.0,>=1.7.4->fastapi) (0.7.0)\n",
      "Requirement already satisfied: pydantic-core==2.27.1 in /usr/local/lib/python3.10/dist-packages (from pydantic!=1.8,!=1.8.1,!=2.0.0,!=2.0.1,!=2.1.0,<3.0.0,>=1.7.4->fastapi) (2.27.1)\n",
      "Requirement already satisfied: anyio<5,>=3.4.0 in /usr/local/lib/python3.10/dist-packages (from starlette<0.42.0,>=0.40.0->fastapi) (3.7.1)\n",
      "Requirement already satisfied: idna>=2.8 in /usr/local/lib/python3.10/dist-packages (from anyio<5,>=3.4.0->starlette<0.42.0,>=0.40.0->fastapi) (3.10)\n",
      "Requirement already satisfied: sniffio>=1.1 in /usr/local/lib/python3.10/dist-packages (from anyio<5,>=3.4.0->starlette<0.42.0,>=0.40.0->fastapi) (1.3.1)\n",
      "Requirement already satisfied: exceptiongroup in /usr/local/lib/python3.10/dist-packages (from anyio<5,>=3.4.0->starlette<0.42.0,>=0.40.0->fastapi) (1.2.2)\n"
     ]
    }
   ],
   "source": [
    "!pip install elasticsearch\n",
    "!pip install transformers torch\n",
    "!pip install fastapi uvicorn elasticsearch"
   ]
  },
  {
   "cell_type": "markdown",
   "metadata": {
    "id": "lbjGL-gsfvLZ"
   },
   "source": [
    "###elasticSearch에서 벡터필드를 포함한 인덱스 생성"
   ]
  },
  {
   "cell_type": "code",
   "execution_count": null,
   "metadata": {
    "id": "RDHLZMQS7mCg"
   },
   "outputs": [],
   "source": [
    "# 매핑 수정\n",
    "index_mapping = {\n",
    "    \"mappings\": {\n",
    "        \"properties\": {\n",
    "            \"title\": {\"type\": \"text\"},\n",
    "            \"body\": {\"type\": \"text\"},\n",
    "            \"tag\": {\"type\": \"keyword\"},\n",
    "            \"deadline\": {\"type\": \"date\"},\n",
    "            \"period\": {\"type\": \"text\"},\n",
    "            \"type\": {\"type\": \"keyword\"},\n",
    "            \"embedding\": {\"type\": \"dense_vector\", \"dims\": 384}  # 임베딩 차원 수정\n",
    "        }\n",
    "    }\n",
    "}"
   ]
  },
  {
   "cell_type": "code",
   "execution_count": null,
   "metadata": {
    "colab": {
     "base_uri": "https://localhost:8080/"
    },
    "executionInfo": {
     "elapsed": 278,
     "status": "ok",
     "timestamp": 1733471230439,
     "user": {
      "displayName": "이채은",
      "userId": "06972204795041090172"
     },
     "user_tz": -540
    },
    "id": "h__gH5lJf1F3",
    "outputId": "db648538-31e3-40bf-b4f3-3649a5c39568"
   },
   "outputs": [
    {
     "name": "stderr",
     "output_type": "stream",
     "text": [
      "<ipython-input-11-32aee0870fb2>:3: DeprecationWarning: Passing transport options in the API method is deprecated. Use 'Elasticsearch.options()' instead.\n",
      "  es.indices.create(index=index_name, body=index_mapping, ignore=400)\n"
     ]
    },
    {
     "data": {
      "text/plain": [
       "ObjectApiResponse({'acknowledged': True, 'shards_acknowledged': True, 'index': 'job_and_post'})"
      ]
     },
     "execution_count": 11,
     "metadata": {},
     "output_type": "execute_result"
    }
   ],
   "source": [
    "# 새로운 인덱스 생성\n",
    "index_name = \"job_and_post\"\n",
    "es.indices.create(index=index_name, body=index_mapping, ignore=400)"
   ]
  },
  {
   "cell_type": "markdown",
   "metadata": {
    "id": "tVzsGmUtgRBR"
   },
   "source": [
    "###elastic search 검색 test (벡터 검색쿼리 )"
   ]
  },
  {
   "cell_type": "markdown",
   "metadata": {
    "id": "P658ZQ3Ruwds"
   },
   "source": [
    "##FASTAPI 로 배포"
   ]
  },
  {
   "cell_type": "code",
   "execution_count": 84,
   "metadata": {
    "colab": {
     "base_uri": "https://localhost:8080/"
    },
    "executionInfo": {
     "elapsed": 922,
     "status": "ok",
     "timestamp": 1733551721080,
     "user": {
      "displayName": "이채은",
      "userId": "06972204795041090172"
     },
     "user_tz": -540
    },
    "id": "LxCLLRsKfI1O",
    "outputId": "99e1b0c4-bfb0-4539-ef2f-a70df364832c"
   },
   "outputs": [
    {
     "name": "stdout",
     "output_type": "stream",
     "text": [
      "ElasticSearch 연결 성공\n"
     ]
    }
   ],
   "source": [
    "from elasticsearch import Elasticsearch\n",
    "\n",
    "# Elastic Cloud 정보\n",
    "CLOUD_ID = \"capstoneAI:\"\n",
    "USERNAME = \"elastic\"\n",
    "PASSWORD = \"\"\n",
    "\n",
    "# 클라이언트 생성\n",
    "es = Elasticsearch(\n",
    "    cloud_id=CLOUD_ID,\n",
    "    basic_auth=(USERNAME, PASSWORD)\n",
    ")\n",
    "\n",
    "# 연결 확인\n",
    "if es.ping():\n",
    "    print(\"ElasticSearch 연결 성공\")\n",
    "else:\n",
    "    print(\"ElasticSearch 연결 실패\")\n"
   ]
  },
  {
   "cell_type": "code",
   "execution_count": 58,
   "metadata": {
    "colab": {
     "base_uri": "https://localhost:8080/"
    },
    "executionInfo": {
     "elapsed": 8384,
     "status": "ok",
     "timestamp": 1733550811449,
     "user": {
      "displayName": "이채은",
      "userId": "06972204795041090172"
     },
     "user_tz": -540
    },
    "id": "VcevX66y9XyT",
    "outputId": "ab7d79a6-f065-453b-b118-d6aa0411f98a"
   },
   "outputs": [
    {
     "name": "stdout",
     "output_type": "stream",
     "text": [
      "Requirement already satisfied: python-multipart in /usr/local/lib/python3.10/dist-packages (0.0.19)\n"
     ]
    }
   ],
   "source": [
    "!pip install python-multipart"
   ]
  },
  {
   "cell_type": "code",
   "execution_count": 59,
   "metadata": {
    "colab": {
     "base_uri": "https://localhost:8080/"
    },
    "executionInfo": {
     "elapsed": 3727,
     "status": "ok",
     "timestamp": 1733550815172,
     "user": {
      "displayName": "이채은",
      "userId": "06972204795041090172"
     },
     "user_tz": -540
    },
    "id": "i7RYaBkE-_hb",
    "outputId": "2dc6160d-153a-4d5c-c0a6-7b87a1e0c921"
   },
   "outputs": [
    {
     "name": "stdout",
     "output_type": "stream",
     "text": [
      "Requirement already satisfied: pyngrok in /usr/local/lib/python3.10/dist-packages (7.2.1)\n",
      "Requirement already satisfied: fastapi in /usr/local/lib/python3.10/dist-packages (0.115.6)\n",
      "Requirement already satisfied: PyYAML>=5.1 in /usr/local/lib/python3.10/dist-packages (from pyngrok) (6.0.2)\n",
      "Requirement already satisfied: starlette<0.42.0,>=0.40.0 in /usr/local/lib/python3.10/dist-packages (from fastapi) (0.41.3)\n",
      "Requirement already satisfied: pydantic!=1.8,!=1.8.1,!=2.0.0,!=2.0.1,!=2.1.0,<3.0.0,>=1.7.4 in /usr/local/lib/python3.10/dist-packages (from fastapi) (2.10.3)\n",
      "Requirement already satisfied: typing-extensions>=4.8.0 in /usr/local/lib/python3.10/dist-packages (from fastapi) (4.12.2)\n",
      "Requirement already satisfied: annotated-types>=0.6.0 in /usr/local/lib/python3.10/dist-packages (from pydantic!=1.8,!=1.8.1,!=2.0.0,!=2.0.1,!=2.1.0,<3.0.0,>=1.7.4->fastapi) (0.7.0)\n",
      "Requirement already satisfied: pydantic-core==2.27.1 in /usr/local/lib/python3.10/dist-packages (from pydantic!=1.8,!=1.8.1,!=2.0.0,!=2.0.1,!=2.1.0,<3.0.0,>=1.7.4->fastapi) (2.27.1)\n",
      "Requirement already satisfied: anyio<5,>=3.4.0 in /usr/local/lib/python3.10/dist-packages (from starlette<0.42.0,>=0.40.0->fastapi) (3.7.1)\n",
      "Requirement already satisfied: idna>=2.8 in /usr/local/lib/python3.10/dist-packages (from anyio<5,>=3.4.0->starlette<0.42.0,>=0.40.0->fastapi) (3.10)\n",
      "Requirement already satisfied: sniffio>=1.1 in /usr/local/lib/python3.10/dist-packages (from anyio<5,>=3.4.0->starlette<0.42.0,>=0.40.0->fastapi) (1.3.1)\n",
      "Requirement already satisfied: exceptiongroup in /usr/local/lib/python3.10/dist-packages (from anyio<5,>=3.4.0->starlette<0.42.0,>=0.40.0->fastapi) (1.2.2)\n"
     ]
    }
   ],
   "source": [
    "!pip install pyngrok fastapi"
   ]
  },
  {
   "cell_type": "code",
   "execution_count": 60,
   "metadata": {
    "colab": {
     "base_uri": "https://localhost:8080/"
    },
    "executionInfo": {
     "elapsed": 8249,
     "status": "ok",
     "timestamp": 1733550823416,
     "user": {
      "displayName": "이채은",
      "userId": "06972204795041090172"
     },
     "user_tz": -540
    },
    "id": "C-w7FeuK-iDE",
    "outputId": "415dc65d-9ba5-4eb4-89d4-a45dd7b6a76f"
   },
   "outputs": [
    {
     "name": "stdout",
     "output_type": "stream",
     "text": [
      "Requirement already satisfied: nest_asyncio in /usr/local/lib/python3.10/dist-packages (1.6.0)\n",
      "Requirement already satisfied: uvicorn in /usr/local/lib/python3.10/dist-packages (0.32.1)\n",
      "Requirement already satisfied: click>=7.0 in /usr/local/lib/python3.10/dist-packages (from uvicorn) (8.1.7)\n",
      "Requirement already satisfied: h11>=0.8 in /usr/local/lib/python3.10/dist-packages (from uvicorn) (0.14.0)\n",
      "Requirement already satisfied: typing-extensions>=4.0 in /usr/local/lib/python3.10/dist-packages (from uvicorn) (4.12.2)\n"
     ]
    }
   ],
   "source": [
    "!pip install nest_asyncio uvicorn"
   ]
  },
  {
   "cell_type": "code",
   "execution_count": 61,
   "metadata": {
    "executionInfo": {
     "elapsed": 9,
     "status": "ok",
     "timestamp": 1733550823417,
     "user": {
      "displayName": "이채은",
      "userId": "06972204795041090172"
     },
     "user_tz": -540
    },
    "id": "kZjeGK1l-UgJ"
   },
   "outputs": [],
   "source": [
    "from fastapi.middleware.cors import CORSMiddleware\n",
    "from pyngrok import ngrok\n",
    "import nest_asyncio\n",
    "import uvicorn"
   ]
  },
  {
   "cell_type": "code",
   "execution_count": 62,
   "metadata": {
    "executionInfo": {
     "elapsed": 8,
     "status": "ok",
     "timestamp": 1733550823417,
     "user": {
      "displayName": "이채은",
      "userId": "06972204795041090172"
     },
     "user_tz": -540
    },
    "id": "vvgm66gr-Yin"
   },
   "outputs": [],
   "source": [
    "ngrok.set_auth_token(\"\")"
   ]
  },
  {
   "cell_type": "code",
   "execution_count": 63,
   "metadata": {
    "colab": {
     "base_uri": "https://localhost:8080/"
    },
    "executionInfo": {
     "elapsed": 536,
     "status": "ok",
     "timestamp": 1733550823946,
     "user": {
      "displayName": "이채은",
      "userId": "06972204795041090172"
     },
     "user_tz": -540
    },
    "id": "Jbec-5MYf-IP",
    "outputId": "af0f3e5f-9b87-4bf5-b7da-c8b7d6a5c05c"
   },
   "outputs": [
    {
     "name": "stderr",
     "output_type": "stream",
     "text": [
      "ERROR:asyncio:Task exception was never retrieved\n",
      "future: <Task finished name='Task-51' coro=<Server.serve() done, defined at /usr/local/lib/python3.10/dist-packages/uvicorn/server.py:67> exception=KeyboardInterrupt()>\n",
      "Traceback (most recent call last):\n",
      "  File \"/usr/local/lib/python3.10/dist-packages/uvicorn/main.py\", line 579, in run\n",
      "    server.run()\n",
      "  File \"/usr/local/lib/python3.10/dist-packages/uvicorn/server.py\", line 65, in run\n",
      "    return asyncio.run(self.serve(sockets=sockets))\n",
      "  File \"/usr/local/lib/python3.10/dist-packages/nest_asyncio.py\", line 30, in run\n",
      "    return loop.run_until_complete(task)\n",
      "  File \"/usr/local/lib/python3.10/dist-packages/nest_asyncio.py\", line 92, in run_until_complete\n",
      "    self._run_once()\n",
      "  File \"/usr/local/lib/python3.10/dist-packages/nest_asyncio.py\", line 133, in _run_once\n",
      "    handle._run()\n",
      "  File \"/usr/lib/python3.10/asyncio/events.py\", line 80, in _run\n",
      "    self._context.run(self._callback, *self._args)\n",
      "  File \"/usr/lib/python3.10/asyncio/tasks.py\", line 315, in __wakeup\n",
      "    self.__step()\n",
      "  File \"/usr/lib/python3.10/asyncio/tasks.py\", line 232, in __step\n",
      "    result = coro.send(None)\n",
      "  File \"/usr/local/lib/python3.10/dist-packages/uvicorn/server.py\", line 68, in serve\n",
      "    with self.capture_signals():\n",
      "  File \"/usr/lib/python3.10/contextlib.py\", line 142, in __exit__\n",
      "    next(self.gen)\n",
      "  File \"/usr/local/lib/python3.10/dist-packages/uvicorn/server.py\", line 332, in capture_signals\n",
      "    signal.raise_signal(captured_signal)\n",
      "KeyboardInterrupt\n"
     ]
    }
   ],
   "source": [
    "#벡터 임베딩 생성\n",
    "from transformers import AutoTokenizer, AutoModel\n",
    "import torch\n",
    "\n",
    "# BERT 모델 로드\n",
    "tokenizer = AutoTokenizer.from_pretrained(\"sentence-transformers/paraphrase-MiniLM-L6-v2\")\n",
    "model = AutoModel.from_pretrained(\"sentence-transformers/paraphrase-MiniLM-L6-v2\")\n"
   ]
  },
  {
   "cell_type": "code",
   "execution_count": 64,
   "metadata": {
    "executionInfo": {
     "elapsed": 4,
     "status": "ok",
     "timestamp": 1733550824893,
     "user": {
      "displayName": "이채은",
      "userId": "06972204795041090172"
     },
     "user_tz": -540
    },
    "id": "UviZhkwqgEhX"
   },
   "outputs": [],
   "source": [
    "# 텍스트 임베딩 생성 함수\n",
    "def get_embedding(text):\n",
    "    inputs = tokenizer(text, return_tensors=\"pt\", truncation=True, padding=True, max_length=512)\n",
    "    with torch.no_grad():\n",
    "        outputs = model(**inputs)\n",
    "    return outputs.last_hidden_state.mean(dim=1).squeeze().tolist()"
   ]
  },
  {
   "cell_type": "code",
   "execution_count": 65,
   "metadata": {
    "executionInfo": {
     "elapsed": 3,
     "status": "ok",
     "timestamp": 1733550824893,
     "user": {
      "displayName": "이채은",
      "userId": "06972204795041090172"
     },
     "user_tz": -540
    },
    "id": "wAhsPtuDsiog"
   },
   "outputs": [],
   "source": [
    "from fastapi import FastAPI\n",
    "from elasticsearch import Elasticsearch\n",
    "\n",
    "app = FastAPI()\n",
    "\n",
    "# Elasticsearch 연결\n",
    "es = Elasticsearch(\n",
    "    cloud_id=\"capstoneAI:\",\n",
    "    basic_auth=(\"elastic\", \"\"))\n",
    "index_name = \"job_and_post\""
   ]
  },
  {
   "cell_type": "code",
   "execution_count": 66,
   "metadata": {
    "executionInfo": {
     "elapsed": 3,
     "status": "ok",
     "timestamp": 1733550824893,
     "user": {
      "displayName": "이채은",
      "userId": "06972204795041090172"
     },
     "user_tz": -540
    },
    "id": "pQwiwUN1-ba3"
   },
   "outputs": [],
   "source": [
    "# CORS 설정\n",
    "app.add_middleware(\n",
    "    CORSMiddleware,\n",
    "    allow_origins=[\"*\"],\n",
    "    # \"http://127.0.0.1:5500\",  # 허용할 출처 설정\n",
    "    allow_credentials=True,\n",
    "    allow_methods=[\"*\"],\n",
    "    allow_headers=[\"*\"],\n",
    ")"
   ]
  },
  {
   "cell_type": "code",
   "execution_count": null,
   "metadata": {
    "id": "NIBPSMmvs0EM"
   },
   "outputs": [],
   "source": [
    "# # 데이터 색인\n",
    "# @app.post(\"/create/\")\n",
    "# async def create_document(doc: dict):\n",
    "#     # Ensure 필드\n",
    "#     if \"title\" in doc and \"body\" in doc:\n",
    "#         doc[\"embedding\"] = get_embedding(doc[\"title\"] + \" \" + doc[\"body\"])\n",
    "#     else:\n",
    "#         return {\"error\": \"Title and body fields are required for embedding.\"}\n",
    "\n",
    "#     # Save document to ElasticSearch\n",
    "#     res = es.index(index=index_name, body=doc)\n",
    "#     return {\"message\": \"Document indexed\", \"id\": res[\"_id\"]}\n"
   ]
  },
  {
   "cell_type": "code",
   "execution_count": 83,
   "metadata": {
    "executionInfo": {
     "elapsed": 404,
     "status": "ok",
     "timestamp": 1733551713966,
     "user": {
      "displayName": "이채은",
      "userId": "06972204795041090172"
     },
     "user_tz": -540
    },
    "id": "S4l_YueDs2Cm"
   },
   "outputs": [],
   "source": [
    "from random import sample\n",
    "from fastapi import FastAPI, Query\n",
    "from fastapi.middleware.cors import CORSMiddleware\n",
    "from fastapi.responses import JSONResponse\n",
    "from elasticsearch import Elasticsearch\n",
    "from fastapi import FastAPI, Query, HTTPException\n",
    "from fastapi.responses import JSONResponse\n",
    "from pydantic import BaseModel\n",
    "from typing import List\n",
    "import json\n",
    "\n",
    "class SearchRequest(BaseModel):\n",
    "    title: str\n",
    "    tags: List[str] = []\n",
    "\n",
    "@app.post(\"/search\")\n",
    "async def search_documents(data: SearchRequest):\n",
    "    query = data.title\n",
    "    tags = data.tags\n",
    "    size = 3  # 결과 수 조정 가능\n",
    "\n",
    "    if query or tags:\n",
    "        query_vector = get_embedding(query + \" \" + \" \".join(tags))\n",
    "        search_query = {\n",
    "            \"query\": {\n",
    "                \"script_score\": {\n",
    "                    \"query\": {\"match_all\": {}},\n",
    "                    \"script\": {\n",
    "                        \"source\": \"cosineSimilarity(params.query_vector, 'embedding') + 1.0\",\n",
    "                        \"params\": {\"query_vector\": query_vector},\n",
    "                    },\n",
    "                },\n",
    "            },\n",
    "            \"size\": size * 2,\n",
    "        }\n",
    "\n",
    "        response = es.search(index=index_name, body=search_query)\n",
    "        all_results = response[\"hits\"][\"hits\"]\n",
    "        job_results = [doc for doc in all_results if doc[\"_source\"].get(\"type\") == \"job\"]\n",
    "        portfolio_results = [doc for doc in all_results if doc[\"_source\"].get(\"type\") == \"portfolio\"]\n",
    "\n",
    "        sorted_job_results = sorted(job_results, key=lambda x: x[\"_score\"], reverse=True)[:size]\n",
    "        sorted_portfolio_results = sorted(portfolio_results, key=lambda x: x[\"_score\"], reverse=True)[:size]\n",
    "\n",
    "        return JSONResponse(\n",
    "    content={\n",
    "        \"jobs\": [\n",
    "            {\n",
    "                \"id\": doc[\"_id\"],\n",
    "                \"title\": doc[\"_source\"].get(\"title\"),\n",
    "                \"body\": doc[\"_source\"].get(\"body\"),\n",
    "                \"author\": doc[\"_source\"].get(\"author\"),\n",
    "                \"tag\": doc[\"_source\"].get(\"tag\"),\n",
    "                \"period\": doc[\"_source\"].get(\"period\"),\n",
    "            }\n",
    "            for doc in sorted_job_results\n",
    "        ] if sorted_job_results else [],\n",
    "        \"portfolio\": [\n",
    "            {\n",
    "                \"id\": doc[\"_id\"],\n",
    "                \"title\": doc[\"_source\"].get(\"title\"),\n",
    "                \"body\": doc[\"_source\"].get(\"body\"),\n",
    "                \"author\": doc[\"_source\"].get(\"author\"),\n",
    "                \"tag\": doc[\"_source\"].get(\"tag\"),\n",
    "                \"period\": doc[\"_source\"].get(\"period\"),\n",
    "            }\n",
    "            for doc in sorted_portfolio_results\n",
    "        ] if sorted_portfolio_results else [],\n",
    "    }\n",
    ")\n",
    "    return JSONResponse(content={\"jobs\": [], \"portfolio\": []})"
   ]
  },
  {
   "cell_type": "code",
   "execution_count": 85,
   "metadata": {
    "executionInfo": {
     "elapsed": 501,
     "status": "ok",
     "timestamp": 1733551726528,
     "user": {
      "displayName": "이채은",
      "userId": "06972204795041090172"
     },
     "user_tz": -540
    },
    "id": "bBrIJcKn-pzP"
   },
   "outputs": [],
   "source": [
    "nest_asyncio.apply()"
   ]
  },
  {
   "cell_type": "code",
   "execution_count": 86,
   "metadata": {
    "colab": {
     "base_uri": "https://localhost:8080/"
    },
    "executionInfo": {
     "elapsed": 370667,
     "status": "ok",
     "timestamp": 1733552246957,
     "user": {
      "displayName": "이채은",
      "userId": "06972204795041090172"
     },
     "user_tz": -540
    },
    "id": "RYKQY2tl-rg1",
    "outputId": "7f7f155c-bb2f-4c0e-8f69-9f5e1431ef38"
   },
   "outputs": [
    {
     "name": "stdout",
     "output_type": "stream",
     "text": [
      "Public URL: NgrokTunnel: \"https://bdf9-34-91-153-171.ngrok-free.app\" -> \"http://localhost:8000\"\n"
     ]
    },
    {
     "name": "stderr",
     "output_type": "stream",
     "text": [
      "INFO:     Started server process [157]\n",
      "INFO:     Waiting for application startup.\n",
      "INFO:     Application startup complete.\n",
      "INFO:     Uvicorn running on http://0.0.0.0:8000 (Press CTRL+C to quit)\n"
     ]
    },
    {
     "name": "stdout",
     "output_type": "stream",
     "text": [
      "INFO:     2001:2d8:e723:ad7b:1d62:17a9:bf00:dbd7:0 - \"OPTIONS /search HTTP/1.1\" 200 OK\n",
      "INFO:     2001:2d8:e723:ad7b:1d62:17a9:bf00:dbd7:0 - \"POST /search HTTP/1.1\" 200 OK\n",
      "INFO:     2001:2d8:e723:ad7b:1d62:17a9:bf00:dbd7:0 - \"POST /search HTTP/1.1\" 200 OK\n",
      "INFO:     2001:2d8:e723:ad7b:1d62:17a9:bf00:dbd7:0 - \"POST /search HTTP/1.1\" 200 OK\n",
      "INFO:     2001:2d8:e723:ad7b:1d62:17a9:bf00:dbd7:0 - \"POST /search HTTP/1.1\" 200 OK\n",
      "INFO:     2001:2d8:e723:ad7b:1d62:17a9:bf00:dbd7:0 - \"POST /search HTTP/1.1\" 200 OK\n",
      "INFO:     2001:2d8:e723:ad7b:1d62:17a9:bf00:dbd7:0 - \"POST /search HTTP/1.1\" 200 OK\n",
      "INFO:     2001:2d8:e723:ad7b:1d62:17a9:bf00:dbd7:0 - \"POST /search HTTP/1.1\" 200 OK\n",
      "INFO:     2001:2d8:e723:ad7b:1d62:17a9:bf00:dbd7:0 - \"POST /search HTTP/1.1\" 200 OK\n"
     ]
    },
    {
     "name": "stderr",
     "output_type": "stream",
     "text": [
      "INFO:     Shutting down\n",
      "INFO:     Waiting for application shutdown.\n",
      "INFO:     Application shutdown complete.\n",
      "INFO:     Finished server process [157]\n"
     ]
    }
   ],
   "source": [
    "public_url = ngrok.connect(8000)\n",
    "print(f\"Public URL: {public_url}\")\n",
    "\n",
    "# FastAPI 서버 실행\n",
    "uvicorn.run(app, host=\"0.0.0.0\", port=8000)"
   ]
  },
  {
   "cell_type": "markdown",
   "metadata": {
    "id": "YopQYFN4f-zI"
   },
   "source": [
    "###NLP 모델 연결"
   ]
  },
  {
   "cell_type": "code",
   "execution_count": 80,
   "metadata": {
    "colab": {
     "base_uri": "https://localhost:8080/"
    },
    "executionInfo": {
     "elapsed": 1747,
     "status": "ok",
     "timestamp": 1733551647666,
     "user": {
      "displayName": "이채은",
      "userId": "06972204795041090172"
     },
     "user_tz": -540
    },
    "id": "QU5YBPyWgLeI",
    "outputId": "2aa4089a-b65c-44d1-ccc7-4d5e4941b983"
   },
   "outputs": [
    {
     "name": "stderr",
     "output_type": "stream",
     "text": [
      "ERROR:asyncio:Task exception was never retrieved\n",
      "future: <Task finished name='Task-75' coro=<Server.serve() done, defined at /usr/local/lib/python3.10/dist-packages/uvicorn/server.py:67> exception=KeyboardInterrupt()>\n",
      "Traceback (most recent call last):\n",
      "  File \"/usr/local/lib/python3.10/dist-packages/uvicorn/main.py\", line 579, in run\n",
      "    server.run()\n",
      "  File \"/usr/local/lib/python3.10/dist-packages/uvicorn/server.py\", line 65, in run\n",
      "    return asyncio.run(self.serve(sockets=sockets))\n",
      "  File \"/usr/local/lib/python3.10/dist-packages/nest_asyncio.py\", line 30, in run\n",
      "    return loop.run_until_complete(task)\n",
      "  File \"/usr/local/lib/python3.10/dist-packages/nest_asyncio.py\", line 92, in run_until_complete\n",
      "    self._run_once()\n",
      "  File \"/usr/local/lib/python3.10/dist-packages/nest_asyncio.py\", line 133, in _run_once\n",
      "    handle._run()\n",
      "  File \"/usr/lib/python3.10/asyncio/events.py\", line 80, in _run\n",
      "    self._context.run(self._callback, *self._args)\n",
      "  File \"/usr/lib/python3.10/asyncio/tasks.py\", line 315, in __wakeup\n",
      "    self.__step()\n",
      "  File \"/usr/lib/python3.10/asyncio/tasks.py\", line 232, in __step\n",
      "    result = coro.send(None)\n",
      "  File \"/usr/local/lib/python3.10/dist-packages/uvicorn/server.py\", line 68, in serve\n",
      "    with self.capture_signals():\n",
      "  File \"/usr/lib/python3.10/contextlib.py\", line 142, in __exit__\n",
      "    next(self.gen)\n",
      "  File \"/usr/local/lib/python3.10/dist-packages/uvicorn/server.py\", line 332, in capture_signals\n",
      "    signal.raise_signal(captured_signal)\n",
      "KeyboardInterrupt\n",
      "ERROR:asyncio:Task exception was never retrieved\n",
      "future: <Task finished name='Task-98' coro=<Server.serve() done, defined at /usr/local/lib/python3.10/dist-packages/uvicorn/server.py:67> exception=KeyboardInterrupt()>\n",
      "Traceback (most recent call last):\n",
      "  File \"/usr/local/lib/python3.10/dist-packages/uvicorn/main.py\", line 579, in run\n",
      "    server.run()\n",
      "  File \"/usr/local/lib/python3.10/dist-packages/uvicorn/server.py\", line 65, in run\n",
      "    return asyncio.run(self.serve(sockets=sockets))\n",
      "  File \"/usr/local/lib/python3.10/dist-packages/nest_asyncio.py\", line 30, in run\n",
      "    return loop.run_until_complete(task)\n",
      "  File \"/usr/local/lib/python3.10/dist-packages/nest_asyncio.py\", line 92, in run_until_complete\n",
      "    self._run_once()\n",
      "  File \"/usr/local/lib/python3.10/dist-packages/nest_asyncio.py\", line 133, in _run_once\n",
      "    handle._run()\n",
      "  File \"/usr/lib/python3.10/asyncio/events.py\", line 80, in _run\n",
      "    self._context.run(self._callback, *self._args)\n",
      "  File \"/usr/lib/python3.10/asyncio/tasks.py\", line 315, in __wakeup\n",
      "    self.__step()\n",
      "  File \"/usr/lib/python3.10/asyncio/tasks.py\", line 232, in __step\n",
      "    result = coro.send(None)\n",
      "  File \"/usr/local/lib/python3.10/dist-packages/uvicorn/server.py\", line 68, in serve\n",
      "    with self.capture_signals():\n",
      "  File \"/usr/lib/python3.10/contextlib.py\", line 142, in __exit__\n",
      "    next(self.gen)\n",
      "  File \"/usr/local/lib/python3.10/dist-packages/uvicorn/server.py\", line 332, in capture_signals\n",
      "    signal.raise_signal(captured_signal)\n",
      "KeyboardInterrupt\n"
     ]
    }
   ],
   "source": [
    "job_docs = [\n",
    "    {\n",
    "        \"title\": \"머신러닝 엔지니어 채용\",\n",
    "        \"body\": (\n",
    "            \"AI 스타트업 'AI Technologies'에서 머신러닝 엔지니어를 모집합니다. \"\n",
    "            \"서울 본사에서 근무하며, 주요 업무는 머신러닝 모델 개발 및 데이터 분석입니다. \"\n",
    "            \"필수 조건: Python, TensorFlow, 데이터 전처리 경험. \"\n",
    "            \"우대 사항: 클라우드 플랫폼(GCP, AWS) 경험. \"\n",
    "            \"근무 형태: 정규직. 급여는 경력에 따라 협의.\"\n",
    "        ),\n",
    "        \"tag\": [\"꼼꼼한 성격\", \"책임감\"],\n",
    "        \"deadline\": \"2024-12-31\",\n",
    "        \"author\": \"AI Technologies\",\n",
    "        \"type\": \"job\"\n",
    "    },\n",
    "    {\n",
    "        \"title\": \"React 프론트엔드 개발자 모집\",\n",
    "        \"body\": (\n",
    "            \"전자상거래 플랫폼 'E-Shop'에서 React 프론트엔드 개발자를 모집합니다. \"\n",
    "            \"서울 또는 원격 근무 가능하며, 주요 업무는 React 기반 웹 애플리케이션 개발입니다. \"\n",
    "            \"필수 조건: React, Redux, RESTful API 경험. \"\n",
    "            \"우대 사항: TypeScript 및 AWS 경험. \"\n",
    "            \"근무 형태: 계약직(6개월), 이후 연장 가능.\"\n",
    "        ),\n",
    "        \"tag\": [\"책임감\", \"빠른 일처리\"],\n",
    "        \"deadline\": \"2024-11-30\",\n",
    "        \"author\": \"E-Shop\",\n",
    "        \"type\": \"job\"\n",
    "    },\n",
    "    {\n",
    "        \"title\": \"데이터 분석가 모집\",\n",
    "        \"body\": (\n",
    "            \"IT 컨설팅 기업 'DataWise'에서 데이터 분석가를 모집합니다. \"\n",
    "            \"주요 업무는 Python과 SQL을 활용한 데이터 분석, 대시보드 개발, 비즈니스 인사이트 도출입니다. \"\n",
    "            \"필수 조건: 데이터 분석 경험, SQL 및 Excel 고급 스킬. \"\n",
    "            \"우대 사항: Tableau 및 Power BI 경험. \"\n",
    "            \"근무 형태: 정규직. 근무지는 부산이며, 재택 근무 협의 가능.\"\n",
    "        ),\n",
    "        \"tag\": [\"팀워크\", \"성실\"],\n",
    "        \"deadline\": \"2024-12-15\",\n",
    "        \"author\": \"DataWise\",\n",
    "        \"type\": \"job\"\n",
    "    },\n",
    "    {\n",
    "        \"title\": \"디지털 마케팅 인턴 모집\",\n",
    "        \"body\": (\n",
    "            \"글로벌 광고 대행사 'AdMax'에서 디지털 마케팅 인턴을 모집합니다. \"\n",
    "            \"주요 업무는 소셜 미디어 콘텐츠 기획, 광고 캠페인 데이터 분석, 마케팅 전략 수립 지원입니다. \"\n",
    "            \"필수 조건: 소셜 미디어 운영 경험, Excel 능숙. \"\n",
    "            \"우대 사항: Google Ads 인증.\"\n",
    "        ),\n",
    "        \"tag\": [\"열정\", \"창의성\"],\n",
    "        \"deadline\": \"2024-10-31\",\n",
    "        \"author\": \"AdMax\",\n",
    "        \"type\": \"job\"\n",
    "    },\n",
    "    {\n",
    "        \"title\": \"UX/UI 디자이너 채용\",\n",
    "        \"body\": (\n",
    "            \"'CreativeLab'에서 UX/UI 디자이너를 모집합니다. \"\n",
    "            \"주요 업무는 사용자 경험 연구, UI 디자인 및 프로토타입 제작입니다. \"\n",
    "            \"필수 조건: Figma 또는 Sketch 숙련자, 사용자 경험 개선 프로젝트 경험. \"\n",
    "            \"우대 사항: 스타트업 환경에서의 근무 경험.\"\n",
    "        ),\n",
    "        \"tag\": [\"섬세함\", \"창의성\"],\n",
    "        \"deadline\": \"2024-11-15\",\n",
    "        \"author\": \"CreativeLab\",\n",
    "        \"type\": \"job\"\n",
    "    },\n",
    "    {\n",
    "        \"title\": \"AI 챌린지 공모전 참가자 모집\",\n",
    "        \"body\": (\n",
    "            \"'AI Challenge 2024' 공모전에 참가할 팀원을 모집합니다. \"\n",
    "            \"머신러닝과 딥러닝 프로젝트 경험이 있는 개발자를 우대하며, 주제는 자연어 처리와 추천 시스템입니다.\"\n",
    "        ),\n",
    "        \"tag\": [\"팀워크\", \"책임감\"],\n",
    "        \"deadline\": \"2024-09-30\",\n",
    "        \"author\": \"AI Challenge 2024\",\n",
    "        \"type\": \"job\"\n",
    "    },\n",
    "    {\n",
    "        \"title\": \"로봇 공학 인턴십\",\n",
    "        \"body\": (\n",
    "            \"로봇 솔루션 기업 'RoboTech'에서 로봇 공학 인턴을 모집합니다. \"\n",
    "            \"근무지는 대전이며, 주요 업무는 로봇 제어 알고리즘 설계 및 테스트입니다. \"\n",
    "            \"필수 조건: C++ 및 ROS 경험. \"\n",
    "            \"우대 사항: 로봇 시뮬레이션 경험.\"\n",
    "        ),\n",
    "        \"tag\": [\"창의성\", \"꼼꼼한 성격\"],\n",
    "        \"deadline\": \"2024-08-31\",\n",
    "        \"author\": \"RoboTech\",\n",
    "        \"type\": \"job\"\n",
    "    },\n",
    "    {\n",
    "        \"title\": \"웹 개발자 채용\",\n",
    "        \"body\": (\n",
    "            \"중견 IT 기업 'WebCore'에서 웹 개발자를 모집합니다. \"\n",
    "            \"주요 업무는 Django 기반 웹 애플리케이션 개발 및 유지보수입니다. \"\n",
    "            \"필수 조건: Django, PostgreSQL 경험. \"\n",
    "            \"우대 사항: 클라우드 환경에서의 개발 경험.\"\n",
    "        ),\n",
    "        \"tag\": [\"책임감\", \"빠른 일처리\"],\n",
    "        \"deadline\": \"2024-10-15\",\n",
    "        \"author\": \"WebCore\",\n",
    "        \"type\": \"job\"\n",
    "    },\n",
    "    {\n",
    "        \"title\": \"국제 비즈니스 대회 참가자 모집\",\n",
    "        \"body\": (\n",
    "            \"국제 비즈니스 아이디어 대회에 참가할 팀원을 모집합니다. \"\n",
    "            \"주요 역할은 비즈니스 모델 기획 및 발표 자료 제작입니다. \"\n",
    "            \"MBA 학생 또는 비즈니스 컨설팅 경험자를 우대합니다.\"\n",
    "        ),\n",
    "        \"tag\": [\"리더십\", \"팀워크\"],\n",
    "        \"deadline\": \"2024-09-15\",\n",
    "        \"author\": \"Global Biz Challenge\",\n",
    "        \"type\": \"job\"\n",
    "    },\n",
    "    {\n",
    "        \"title\": \"에너지 공학 인턴십\",\n",
    "        \"body\": (\n",
    "            \"'Green Energy Solutions'에서 에너지 공학 인턴을 모집합니다. \"\n",
    "            \"주요 업무는 재생 에너지 프로젝트 지원, 데이터 분석 및 보고서 작성입니다. \"\n",
    "            \"필수 조건: MATLAB 또는 Python 사용 경험. \"\n",
    "            \"우대 사항: 에너지 저장 시스템 설계 경험.\"\n",
    "        ),\n",
    "        \"tag\": [\"성실\", \"분석력\"],\n",
    "        \"deadline\": \"2024-12-01\",\n",
    "        \"author\": \"Green Energy Solutions\",\n",
    "        \"type\": \"job\"\n",
    "    }\n",
    "]\n",
    "\n",
    "# title과 body를 결합해 embedding 생성\n",
    "for doc in job_docs:\n",
    "    doc[\"embedding\"] = get_embedding(doc[\"title\"] + \" \" + doc[\"body\"])\n"
   ]
  },
  {
   "cell_type": "code",
   "execution_count": 81,
   "metadata": {
    "executionInfo": {
     "elapsed": 1839,
     "status": "ok",
     "timestamp": 1733551656208,
     "user": {
      "displayName": "이채은",
      "userId": "06972204795041090172"
     },
     "user_tz": -540
    },
    "id": "YPIjzYxTrBmi"
   },
   "outputs": [],
   "source": [
    "post_docs = [\n",
    "    {\n",
    "        \"title\": \"제10회 인문학 공모전 참여\",\n",
    "        \"body\": (\n",
    "            \"제10회 인문학 공모전에 참여하여 '문학 속 사랑의 표현'이라는 주제로 작품을 제출했습니다. \"\n",
    "            \"해당 공모전에서는 창의성과 논리적인 글쓰기 능력을 인정받아 우수상을 수상했습니다.\"\n",
    "        ),\n",
    "        \"period\": \"2023-04 ~ 2023-05\",\n",
    "        \"tag\": [\"창의성\", \"논리적 사고\"],\n",
    "        \"author\": \"김문학\",\n",
    "        \"type\": \"portfolio\"\n",
    "    },\n",
    "    {\n",
    "        \"title\": \"IT 공모전에서 AI 프로젝트 발표\",\n",
    "        \"body\": (\n",
    "            \"'Smart AI' 공모전에 참가하여 머신러닝 기반 추천 시스템을 발표했습니다. \"\n",
    "            \"데이터 수집부터 모델 개발, 시각화까지 팀을 이끌어 프로젝트를 성공적으로 완수했으며, 최우수상을 수상했습니다.\"\n",
    "        ),\n",
    "        \"period\": \"2022-09 ~ 2022-12\",\n",
    "        \"tag\": [\"팀워크\", \"책임감\"],\n",
    "        \"author\": \"박인공지능\",\n",
    "        \"type\": \"portfolio\"\n",
    "    },\n",
    "    {\n",
    "        \"title\": \"환경 캠페인 참여\",\n",
    "        \"body\": (\n",
    "            \"환경 보호 단체와 협력하여 '플라스틱 줄이기 캠페인'에 참여했습니다. \"\n",
    "            \"캠페인의 기획부터 실행까지 전 과정에 참여했으며, 지역 주민의 참여를 독려하는 활동을 주도했습니다.\"\n",
    "        ),\n",
    "        \"period\": \"2023-01 ~ 2023-03\",\n",
    "        \"tag\": [\"열정\", \"소통\"],\n",
    "        \"author\": \"이환경\",\n",
    "        \"type\": \"portfolio\"\n",
    "    },\n",
    "    {\n",
    "        \"title\": \"스타트업 창업 경험\",\n",
    "        \"body\": (\n",
    "            \"2021년에 IT 기반 스타트업을 창업하여, 팀 빌딩부터 제품 개발, 투자 유치까지 전 과정을 경험했습니다. \"\n",
    "            \"현재는 서비스를 성공적으로 운영하고 있으며, 사용자 기반이 꾸준히 성장하고 있습니다.\"\n",
    "        ),\n",
    "        \"period\": \"2021-01 ~ 현재\",\n",
    "        \"tag\": [\"리더십\", \"창의성\"],\n",
    "        \"author\": \"최창업\",\n",
    "        \"type\": \"portfolio\"\n",
    "    },\n",
    "    {\n",
    "        \"title\": \"LLM RAG 개발 및 삼성 프로젝트 활동\",\n",
    "        \"body\": (\n",
    "            \"삼성전자와의 협력 프로젝트에서 LLM 기반의 RAG(Retrieval-Augmented Generation) 시스템을 개발했습니다. \"\n",
    "            \"프로젝트는 데이터 검색 및 자연어 처리 시스템 최적화를 목표로 진행되었으며, 성공적으로 완료되었습니다.\"\n",
    "        ),\n",
    "        \"period\": \"2023-05 ~ 2023-10\",\n",
    "        \"tag\": [\"논리적 사고\", \"책임감\"],\n",
    "        \"author\": \"홍삼성\",\n",
    "        \"type\": \"portfolio\"\n",
    "    },\n",
    "    {\n",
    "        \"title\": \"UI/UX 디자인 프로젝트\",\n",
    "        \"body\": (\n",
    "            \"대학 졸업 프로젝트로 UI/UX 디자인에 참여하여 사용자 친화적인 모바일 앱을 개발했습니다. \"\n",
    "            \"해당 앱은 디자인 공모전에서 1위를 차지했으며, 사용자 경험 테스트를 통해 지속적으로 개선되었습니다.\"\n",
    "        ),\n",
    "        \"period\": \"2022-03 ~ 2022-11\",\n",
    "        \"tag\": [\"창의성\", \"섬세함\"],\n",
    "        \"author\": \"유아이\",\n",
    "        \"type\": \"portfolio\"\n",
    "    },\n",
    "    {\n",
    "        \"title\": \"OpenAI 기반 챗봇 개발\",\n",
    "        \"body\": (\n",
    "            \"OpenAI의 GPT-3 API를 활용하여 고객 지원용 챗봇을 개발한 경험이 있습니다. \"\n",
    "            \"해당 챗봇은 자연어 이해 성능을 극대화하여 고객의 요청을 신속히 처리할 수 있도록 설계되었습니다.\"\n",
    "        ),\n",
    "        \"period\": \"2023-06 ~ 2023-08\",\n",
    "        \"tag\": [\"빠른 일처리\", \"창의성\"],\n",
    "        \"author\": \"박챗봇\",\n",
    "        \"type\": \"portfolio\"\n",
    "    },\n",
    "    {\n",
    "        \"title\": \"하나은행 대규모 금융 데이터 분석 프로젝트\",\n",
    "        \"body\": (\n",
    "            \"금융권 고객사의 요구에 맞춰 대규모 데이터를 분석하고 시각화하는 프로젝트를 수행했습니다. \"\n",
    "            \"Python과 Tableau를 활용하여 실시간 대시보드를 제작하고, 핵심 인사이트를 도출했습니다.\"\n",
    "        ),\n",
    "        \"period\": \"2023-01 ~ 2023-04\",\n",
    "        \"tag\": [\"분석력\", \"책임감\"],\n",
    "        \"author\": \"김데이터\",\n",
    "        \"type\": \"portfolio\"\n",
    "    },\n",
    "    {\n",
    "        \"title\": \"사회적 기업 캠페인 기획 및 실행\",\n",
    "        \"body\": (\n",
    "            \"사회적 기업과 협력하여 청소년 대상 코딩 교육 캠페인을 기획하고 실행했습니다. \"\n",
    "            \"100명 이상의 참가자를 대상으로 성공적인 교육 프로그램을 운영했습니다.\"\n",
    "        ),\n",
    "        \"period\": \"2022-07 ~ 2022-09\",\n",
    "        \"tag\": [\"소통\", \"열정\"],\n",
    "        \"author\": \"강교육\",\n",
    "        \"type\": \"portfolio\"\n",
    "    },\n",
    "    {\n",
    "        \"title\": \"유니티활용 모바일 게임 개발 및 출시\",\n",
    "        \"body\": (\n",
    "            \"Unity 엔진을 활용하여 모바일 게임을 개발하고 Google Play 스토어에 출시했습니다. \"\n",
    "            \"게임 디자인부터 프로그래밍, 테스트까지 전 과정을 담당하며 10,000+ 다운로드를 달성했습니다.\"\n",
    "        ),\n",
    "        \"period\": \"2022-01 ~ 2022-06\",\n",
    "        \"tag\": [\"리더십\", \"창의성\"],\n",
    "        \"author\": \"최게임\",\n",
    "        \"type\": \"portfolio\"\n",
    "    }\n",
    "]\n",
    "\n",
    "\n",
    "# title과 body를 결합해 embedding 생성\n",
    "for doc in post_docs:\n",
    "    doc[\"embedding\"] = get_embedding(doc[\"title\"] + \" \" + doc[\"body\"])\n"
   ]
  },
  {
   "cell_type": "code",
   "execution_count": 82,
   "metadata": {
    "executionInfo": {
     "elapsed": 2680,
     "status": "ok",
     "timestamp": 1733551706482,
     "user": {
      "displayName": "이채은",
      "userId": "06972204795041090172"
     },
     "user_tz": -540
    },
    "id": "szDuk4mHpb45"
   },
   "outputs": [],
   "source": [
    "# ElasticSearch 색인\n",
    "for i, doc in enumerate(job_docs):\n",
    "    es.index(index=index_name, id=f\"job_{i+1}\", body=doc)\n",
    "\n",
    "for i, doc in enumerate(post_docs):\n",
    "    es.index(index=index_name, id=f\"post_{i+1}\", body=doc)\n"
   ]
  },
  {
   "cell_type": "code",
   "execution_count": 54,
   "metadata": {
    "colab": {
     "base_uri": "https://localhost:8080/"
    },
    "executionInfo": {
     "elapsed": 1790,
     "status": "ok",
     "timestamp": 1733549980787,
     "user": {
      "displayName": "이채은",
      "userId": "06972204795041090172"
     },
     "user_tz": -540
    },
    "id": "MrVhng2QrKrZ",
    "outputId": "d5716266-9d5e-4e6b-a319-ee525b430f01"
   },
   "outputs": [
    {
     "name": "stdout",
     "output_type": "stream",
     "text": [
      "10개의 포트폴리오가 색인되었습니다.\n"
     ]
    }
   ],
   "source": [
    "# ElasticSearch 색인\n",
    "for i, doc in enumerate(post_docs):\n",
    "    es.index(index=index_name, id=f\"job_{i+1}\", body=doc)\n",
    "\n",
    "print(f\"{len(post_docs)}개의 포트폴리오가 색인되었습니다.\")"
   ]
  },
  {
   "cell_type": "code",
   "execution_count": 75,
   "metadata": {
    "executionInfo": {
     "elapsed": 818,
     "status": "ok",
     "timestamp": 1733551453706,
     "user": {
      "displayName": "이채은",
      "userId": "06972204795041090172"
     },
     "user_tz": -540
    },
    "id": "NOnWjlVhrkcb"
   },
   "outputs": [],
   "source": [
    "def search_combined_indices(query, tags, top_k=3):\n",
    "    # 1. 사용자가 입력한 검색어+태그 임베딩 생성\n",
    "    query_embedding = get_embedding(query + \" \" + \" \".join(tags)).tolist()\n",
    "\n",
    "    # 2. ElasticSearch에서 두 인덱스를 각각 검색\n",
    "    indices = [\"jobs_docs\", \"post_docs\"]\n",
    "    all_results = []\n",
    "\n",
    "    for index in indices:\n",
    "        query_body = {\n",
    "            \"query\": {\n",
    "                \"script_score\": {\n",
    "                    \"query\": {\"match_all\": {}},\n",
    "                    \"script\": {\n",
    "                        \"source\": \"cosineSimilarity(params.query_vector, 'embedding') + 1.0\",\n",
    "                        \"params\": {\"query_vector\": query_embedding}\n",
    "                    }\n",
    "                }\n",
    "            },\n",
    "            \"size\": top_k\n",
    "        }\n",
    "        response = es.search(index=index, body=query_body)\n",
    "        # 각 결과를 리스트에 추가\n",
    "        all_results.extend(response[\"hits\"][\"hits\"])\n",
    "\n",
    "    # 3. 유사도 기준으로 정렬\n",
    "    sorted_results = sorted(all_results, key=lambda x: x[\"_score\"], reverse=True)\n",
    "    return sorted_results\n"
   ]
  }
 ],
 "metadata": {
  "colab": {
   "authorship_tag": "ABX9TyOPvsy3F8oXcqrhOppIoqcH",
   "provenance": []
  },
  "kernelspec": {
   "display_name": "Python 3",
   "name": "python3"
  },
  "language_info": {
   "name": "python"
  }
 },
 "nbformat": 4,
 "nbformat_minor": 0
}
